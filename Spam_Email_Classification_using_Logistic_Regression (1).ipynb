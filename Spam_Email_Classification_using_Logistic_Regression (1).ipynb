{
  "nbformat": 4,
  "nbformat_minor": 0,
  "metadata": {
    "colab": {
      "provenance": [],
      "collapsed_sections": [
        "cg-kX-N-q7et"
      ]
    },
    "kernelspec": {
      "name": "python3",
      "display_name": "Python 3"
    },
    "language_info": {
      "name": "python"
    }
  },
  "cells": [
    {
      "cell_type": "markdown",
      "source": [
        "# 📬 Spam Email Classification using Logistic Regression  \n",
        "*Phân loại Email Spam bằng Hồi quy Logistic*\n",
        "\n",
        "In this notebook, we will build a simple machine learning model using **Logistic Regression** to classify emails as **Spam** or **Not Spam**.  \n",
        "Trong notebook này, chúng ta sẽ xây dựng một mô hình học máy đơn giản sử dụng **Hồi quy Logistic** để phân loại email thành **Spam** hoặc **Không phải Spam**.\n",
        "\n",
        "---\n",
        "\n",
        "## ✅ Steps | Các bước thực hiện:\n",
        "\n",
        "1. **Install dependencies**  \n",
        "   *Cài đặt các thư viện cần thiết*\n",
        "\n",
        "2. **Load and explore the dataset**  \n",
        "   *Tải và khám phá bộ dữ liệu*\n",
        "\n",
        "3. **Preprocess the data** *(feature engineering, scaling)*  \n",
        "   *Tiền xử lý dữ liệu* *(kỹ thuật đặc trưng, chuẩn hóa)*\n",
        "\n",
        "4. **Build the Logistic Regression model**  \n",
        "   *Xây dựng mô hình Logistic Regression*\n",
        "\n",
        "5. **Evaluate the model's performance**  \n",
        "   *Đánh giá hiệu suất mô hình*\n",
        "\n",
        "6. **Make predictions on new data**  \n",
        "   *Dự đoán với dữ liệu mới*\n",
        "\n",
        "---\n",
        "\n",
        "## 🔧 1. Install Dependencies | Cài đặt thư viện\n",
        "\n",
        "Let's begin by installing the necessary Python libraries for our project.  \n",
        "Bắt đầu bằng cách cài đặt các thư viện Python cần thiết cho project này.\n"
      ],
      "metadata": {
        "id": "NX0GZfM1o8ef"
      }
    },
    {
      "cell_type": "code",
      "source": [
        "!pip install numpy pandas scikit-learn matplotlib"
      ],
      "metadata": {
        "id": "ERpnjFogpEWm"
      },
      "execution_count": null,
      "outputs": []
    },
    {
      "cell_type": "markdown",
      "source": [
        "👉 Here, we import **all the necessary libraries** at once,  \n",
        "so we don't have to add them again in later sections.\n",
        "\n",
        "👉 Ở đây, ta **import tất cả các thư viện cần dùng** ngay từ đầu,  \n",
        "để các phần phía sau không cần phải thêm nữa!\n"
      ],
      "metadata": {
        "id": "9K3QEVajp8RO"
      }
    },
    {
      "cell_type": "code",
      "source": [
        "import pandas as pd\n",
        "import re\n",
        "import string\n",
        "from sklearn.model_selection import train_test_split\n",
        "from sklearn.feature_extraction.text import TfidfVectorizer\n",
        "from sklearn.linear_model import LogisticRegression\n",
        "from sklearn.metrics import accuracy_score, classification_report\n",
        "import joblib"
      ],
      "metadata": {
        "id": "uQmwrzBbpXE-"
      },
      "execution_count": null,
      "outputs": []
    },
    {
      "cell_type": "markdown",
      "source": [
        "## 📂 2. Load and Explore the Data  \n",
        "*Tải và khám phá dữ liệu*\n",
        "\n",
        "We'll start by loading the dataset.  \n",
        "Chúng ta sẽ bắt đầu bằng cách tải bộ dữ liệu.\n",
        "\n",
        "For this example, we assume that the dataset is available in CSV format.  \n",
        "Trong ví dụ này, ta giả định dữ liệu có sẵn dưới dạng file `.csv`.\n",
        "\n",
        "You can upload your own dataset, or use a sample dataset from a URL.  \n",
        "Bạn có thể **tự upload file CSV** của mình, hoặc dùng **file mẫu có sẵn từ đường dẫn URL**.\n",
        "\n",
        "📌 In this project, we use a pre-cleaned sample file: `spam.csv`  \n",
        "📌 Trong project này, mình dùng một file mẫu đã được làm sạch: `spam.csv`\n"
      ],
      "metadata": {
        "id": "lb7aFjLupM3-"
      }
    },
    {
      "cell_type": "markdown",
      "source": [
        "## ⬆️ Upload Dataset to Colab  \n",
        "*Tải dữ liệu lên Colab*\n",
        "\n",
        "Before we can use the dataset, we need to upload it into this Colab session.  \n",
        "Trước tiên, ta cần **tải file dữ liệu (datasheet)** lên Colab để sử dụng.\n",
        "\n",
        "👉 In this example, the file is available in the `data/` folder on GitHub.  \n",
        "👉 Trong ví dụ này, file nằm trong thư mục `data/` của GitHub repo.\n",
        "\n",
        "📥 You should **download the file to your local machine first**,  \n",
        "then **upload it here** using the upload button below.  \n",
        "📥 Bạn cần **tải file về máy trước**,  \n",
        "rồi **upload lên Colab bằng nút phía dưới**.\n"
      ],
      "metadata": {
        "id": "0AUEwZorrMyd"
      }
    },
    {
      "cell_type": "code",
      "source": [
        "# ⬆️ Upload the Data\n",
        "# Tải dữ liệu lên Colab\n",
        "\n",
        "from google.colab import files # Tải dữ liệu lên\n",
        "import pandas as pd\n",
        "uploaded = files.upload()\n",
        "df = pd.read_csv(\"spam.csv\") # kiểm tra dữ liệu sau khi tải lên\n",
        "print(df)  # Xem thử 5 dòng đầu\n"
      ],
      "metadata": {
        "colab": {
          "base_uri": "https://localhost:8080/",
          "height": 316
        },
        "id": "96ODp_n-rRiG",
        "outputId": "f2a388f4-c790-4534-cde3-9ef4535078cd",
        "collapsed": true
      },
      "execution_count": 10,
      "outputs": [
        {
          "output_type": "display_data",
          "data": {
            "text/plain": [
              "<IPython.core.display.HTML object>"
            ],
            "text/html": [
              "\n",
              "     <input type=\"file\" id=\"files-7c8c8454-9d24-40e9-9516-7cc90d7fd835\" name=\"files[]\" multiple disabled\n",
              "        style=\"border:none\" />\n",
              "     <output id=\"result-7c8c8454-9d24-40e9-9516-7cc90d7fd835\">\n",
              "      Upload widget is only available when the cell has been executed in the\n",
              "      current browser session. Please rerun this cell to enable.\n",
              "      </output>\n",
              "      <script>// Copyright 2017 Google LLC\n",
              "//\n",
              "// Licensed under the Apache License, Version 2.0 (the \"License\");\n",
              "// you may not use this file except in compliance with the License.\n",
              "// You may obtain a copy of the License at\n",
              "//\n",
              "//      http://www.apache.org/licenses/LICENSE-2.0\n",
              "//\n",
              "// Unless required by applicable law or agreed to in writing, software\n",
              "// distributed under the License is distributed on an \"AS IS\" BASIS,\n",
              "// WITHOUT WARRANTIES OR CONDITIONS OF ANY KIND, either express or implied.\n",
              "// See the License for the specific language governing permissions and\n",
              "// limitations under the License.\n",
              "\n",
              "/**\n",
              " * @fileoverview Helpers for google.colab Python module.\n",
              " */\n",
              "(function(scope) {\n",
              "function span(text, styleAttributes = {}) {\n",
              "  const element = document.createElement('span');\n",
              "  element.textContent = text;\n",
              "  for (const key of Object.keys(styleAttributes)) {\n",
              "    element.style[key] = styleAttributes[key];\n",
              "  }\n",
              "  return element;\n",
              "}\n",
              "\n",
              "// Max number of bytes which will be uploaded at a time.\n",
              "const MAX_PAYLOAD_SIZE = 100 * 1024;\n",
              "\n",
              "function _uploadFiles(inputId, outputId) {\n",
              "  const steps = uploadFilesStep(inputId, outputId);\n",
              "  const outputElement = document.getElementById(outputId);\n",
              "  // Cache steps on the outputElement to make it available for the next call\n",
              "  // to uploadFilesContinue from Python.\n",
              "  outputElement.steps = steps;\n",
              "\n",
              "  return _uploadFilesContinue(outputId);\n",
              "}\n",
              "\n",
              "// This is roughly an async generator (not supported in the browser yet),\n",
              "// where there are multiple asynchronous steps and the Python side is going\n",
              "// to poll for completion of each step.\n",
              "// This uses a Promise to block the python side on completion of each step,\n",
              "// then passes the result of the previous step as the input to the next step.\n",
              "function _uploadFilesContinue(outputId) {\n",
              "  const outputElement = document.getElementById(outputId);\n",
              "  const steps = outputElement.steps;\n",
              "\n",
              "  const next = steps.next(outputElement.lastPromiseValue);\n",
              "  return Promise.resolve(next.value.promise).then((value) => {\n",
              "    // Cache the last promise value to make it available to the next\n",
              "    // step of the generator.\n",
              "    outputElement.lastPromiseValue = value;\n",
              "    return next.value.response;\n",
              "  });\n",
              "}\n",
              "\n",
              "/**\n",
              " * Generator function which is called between each async step of the upload\n",
              " * process.\n",
              " * @param {string} inputId Element ID of the input file picker element.\n",
              " * @param {string} outputId Element ID of the output display.\n",
              " * @return {!Iterable<!Object>} Iterable of next steps.\n",
              " */\n",
              "function* uploadFilesStep(inputId, outputId) {\n",
              "  const inputElement = document.getElementById(inputId);\n",
              "  inputElement.disabled = false;\n",
              "\n",
              "  const outputElement = document.getElementById(outputId);\n",
              "  outputElement.innerHTML = '';\n",
              "\n",
              "  const pickedPromise = new Promise((resolve) => {\n",
              "    inputElement.addEventListener('change', (e) => {\n",
              "      resolve(e.target.files);\n",
              "    });\n",
              "  });\n",
              "\n",
              "  const cancel = document.createElement('button');\n",
              "  inputElement.parentElement.appendChild(cancel);\n",
              "  cancel.textContent = 'Cancel upload';\n",
              "  const cancelPromise = new Promise((resolve) => {\n",
              "    cancel.onclick = () => {\n",
              "      resolve(null);\n",
              "    };\n",
              "  });\n",
              "\n",
              "  // Wait for the user to pick the files.\n",
              "  const files = yield {\n",
              "    promise: Promise.race([pickedPromise, cancelPromise]),\n",
              "    response: {\n",
              "      action: 'starting',\n",
              "    }\n",
              "  };\n",
              "\n",
              "  cancel.remove();\n",
              "\n",
              "  // Disable the input element since further picks are not allowed.\n",
              "  inputElement.disabled = true;\n",
              "\n",
              "  if (!files) {\n",
              "    return {\n",
              "      response: {\n",
              "        action: 'complete',\n",
              "      }\n",
              "    };\n",
              "  }\n",
              "\n",
              "  for (const file of files) {\n",
              "    const li = document.createElement('li');\n",
              "    li.append(span(file.name, {fontWeight: 'bold'}));\n",
              "    li.append(span(\n",
              "        `(${file.type || 'n/a'}) - ${file.size} bytes, ` +\n",
              "        `last modified: ${\n",
              "            file.lastModifiedDate ? file.lastModifiedDate.toLocaleDateString() :\n",
              "                                    'n/a'} - `));\n",
              "    const percent = span('0% done');\n",
              "    li.appendChild(percent);\n",
              "\n",
              "    outputElement.appendChild(li);\n",
              "\n",
              "    const fileDataPromise = new Promise((resolve) => {\n",
              "      const reader = new FileReader();\n",
              "      reader.onload = (e) => {\n",
              "        resolve(e.target.result);\n",
              "      };\n",
              "      reader.readAsArrayBuffer(file);\n",
              "    });\n",
              "    // Wait for the data to be ready.\n",
              "    let fileData = yield {\n",
              "      promise: fileDataPromise,\n",
              "      response: {\n",
              "        action: 'continue',\n",
              "      }\n",
              "    };\n",
              "\n",
              "    // Use a chunked sending to avoid message size limits. See b/62115660.\n",
              "    let position = 0;\n",
              "    do {\n",
              "      const length = Math.min(fileData.byteLength - position, MAX_PAYLOAD_SIZE);\n",
              "      const chunk = new Uint8Array(fileData, position, length);\n",
              "      position += length;\n",
              "\n",
              "      const base64 = btoa(String.fromCharCode.apply(null, chunk));\n",
              "      yield {\n",
              "        response: {\n",
              "          action: 'append',\n",
              "          file: file.name,\n",
              "          data: base64,\n",
              "        },\n",
              "      };\n",
              "\n",
              "      let percentDone = fileData.byteLength === 0 ?\n",
              "          100 :\n",
              "          Math.round((position / fileData.byteLength) * 100);\n",
              "      percent.textContent = `${percentDone}% done`;\n",
              "\n",
              "    } while (position < fileData.byteLength);\n",
              "  }\n",
              "\n",
              "  // All done.\n",
              "  yield {\n",
              "    response: {\n",
              "      action: 'complete',\n",
              "    }\n",
              "  };\n",
              "}\n",
              "\n",
              "scope.google = scope.google || {};\n",
              "scope.google.colab = scope.google.colab || {};\n",
              "scope.google.colab._files = {\n",
              "  _uploadFiles,\n",
              "  _uploadFilesContinue,\n",
              "};\n",
              "})(self);\n",
              "</script> "
            ]
          },
          "metadata": {}
        },
        {
          "output_type": "stream",
          "name": "stdout",
          "text": [
            "Saving spam.csv to spam.csv\n",
            "     label                                        message\n",
            "0      ham           Please review the attached document.\n",
            "1      ham        Don't forget about the meeting at 3 PM.\n",
            "2      ham                      I'll call you back later.\n",
            "3      ham       How was your weekend? Did you go hiking?\n",
            "4      ham                      I'll call you back later.\n",
            "...    ...                                            ...\n",
            "9995   ham  Let's grab lunch tomorrow at our usual place.\n",
            "9996   ham                      I'll call you back later.\n",
            "9997   ham                      I'll call you back later.\n",
            "9998   ham                      See you at the gym later!\n",
            "9999   ham                      I'll call you back later.\n",
            "\n",
            "[10000 rows x 2 columns]\n"
          ]
        }
      ]
    },
    {
      "cell_type": "markdown",
      "source": [
        "## 🔄 Load Data and Convert Labels to Numbers  \n",
        "*Load dữ liệu và chuyển đổi nhãn thành số*\n",
        "\n",
        "Next, we will load the data and convert the labels (Spam/Not Spam) into numeric values.  \n",
        "Tiếp theo, chúng ta sẽ tải dữ liệu và chuyển các nhãn (Spam/Không Spam) thành giá trị số.\n",
        "\n",
        "### 🚀 Convert Labels to Numeric | Chuyển đổi nhãn thành số:\n",
        "\n",
        "We can map **Spam** to 1 and **Not Spam** to 0.  \n",
        "Chúng ta sẽ ánh xạ **Spam** thành 1 và **Không Spam** thành 0.\n",
        "\n",
        "\n"
      ],
      "metadata": {
        "id": "gIqV1qeQrYIC"
      }
    },
    {
      "cell_type": "code",
      "source": [
        "# 1️⃣ Load dữ liệu\n",
        "df = pd.read_csv(\"spam.csv\", encoding=\"latin-1\")[['label', 'message']]\n",
        "df.columns = ['label', 'message']\n",
        "df['label'] = df['label'].map({'ham': 0, 'spam': 1})  # Chuyển đổi nhãn thành số"
      ],
      "metadata": {
        "id": "E4SqyfPQpRuI"
      },
      "execution_count": null,
      "outputs": []
    },
    {
      "cell_type": "markdown",
      "source": [
        "## 🧑‍💻 3. Preprocessing Data  \n",
        "*Tiền xử lý dữ liệu*\n",
        "\n",
        "Now, let's preprocess the data by handling missing values, encoding categorical features, and splitting the data into training and testing sets.  \n",
        "Bây giờ, chúng ta sẽ tiền xử lý dữ liệu bằng cách xử lý các giá trị thiếu, mã hóa các đặc trưng phân loại và chia dữ liệu thành bộ huấn luyện và bộ kiểm tra.\n",
        "\n",
        "### 🚀 1. Handle Missing Values | Xử lý giá trị thiếu:\n",
        "Before we continue, let's check if there are any missing values in the dataset.  \n",
        "Trước khi tiếp tục, chúng ta sẽ kiểm tra xem có giá trị nào bị thiếu trong dữ liệu không.\n"
      ],
      "metadata": {
        "id": "8HdS0AZwpcLW"
      }
    },
    {
      "cell_type": "code",
      "source": [
        "# Check for missing values\n",
        "print(df.isnull().sum())  # Kiểm tra số lượng giá trị thiếu trong mỗi cột\n",
        "\n",
        "# 2️⃣ Tiền xử lý văn bản\n",
        "def clean_text(text):\n",
        "    text = text.lower()\n",
        "    text = re.sub(f\"[{string.punctuation}]\", \"\", text)  # Xóa dấu câu\n",
        "    text = re.sub(r\"\\d+\", \"\", text)  # Xóa số\n",
        "    return text\n",
        "\n",
        "df['message'] = df['message'].apply(clean_text)\n",
        "\n",
        "# 3️⃣ Chia tập dữ liệu\n",
        "X_train, X_test, y_train, y_test = train_test_split(df['message'], df['label'], test_size=0.2, random_state=42)\n",
        "\n",
        "# 4️⃣ Chuyển đổi văn bản thành vector số\n",
        "vectorizer = TfidfVectorizer()\n",
        "\n",
        "# Bước 1: Huấn luyện vectorizer với dữ liệu huấn luyện\n",
        "vectorizer.fit(X_train)\n",
        "\n",
        "# Giả sử vectorizer là đối tượng TfidfVectorizer đã huấn luyện\n",
        "joblib.dump(vectorizer, \"tfidf_vectorizer.pkl\")\n",
        "\n",
        "# Bước 2: Chuyển đổi dữ liệu huấn luyện thành vector số\n",
        "X_train_tfidf = vectorizer.transform(X_train)\n",
        "\n",
        "X_test_tfidf = vectorizer.transform(X_test)"
      ],
      "metadata": {
        "id": "SwHj3x-0pvu3"
      },
      "execution_count": null,
      "outputs": []
    },
    {
      "cell_type": "markdown",
      "source": [
        "## 🏗️ 4. Build Logistic Regression Model  \n",
        "*Xây dựng mô hình Logistic Regression*\n",
        "\n",
        "Now, we will build the **Logistic Regression** model using **scikit-learn** and train it on the preprocessed data.  \n",
        "Bây giờ, chúng ta sẽ xây dựng mô hình **Logistic Regression** sử dụng **scikit-learn** và huấn luyện mô hình với dữ liệu đã được tiền xử lý.\n",
        "\n",
        "### 🚀 Train the Logistic Regression Model | Huấn luyện mô hình Logistic Regression:\n",
        "\n",
        "We will initialize the logistic regression model and train it using the training data.  \n",
        "Chúng ta sẽ khởi tạo mô hình logistic regression và huấn luyện nó với bộ dữ liệu huấn luyện.\n"
      ],
      "metadata": {
        "id": "q8LErQGzqHIG"
      }
    },
    {
      "cell_type": "code",
      "source": [
        "# 5️⃣ Huấn luyện mô hình Logistic Regression\n",
        "model = LogisticRegression()\n",
        "\n",
        "model.fit(X_train_tfidf, y_train)"
      ],
      "metadata": {
        "id": "oJhzHvBoqJ5t"
      },
      "execution_count": null,
      "outputs": []
    },
    {
      "cell_type": "markdown",
      "source": [
        "## 📊 5. Evaluate the Model  \n",
        "*Đánh giá mô hình*\n",
        "\n",
        "After training the model, we need to evaluate its performance using metrics such as **accuracy**, **precision**, **recall**, and **F1-score**.  \n",
        "Sau khi huấn luyện mô hình, chúng ta cần đánh giá hiệu suất của nó bằng các chỉ số như **độ chính xác**, **độ chính xác (precision)**, **độ nhạy (recall)** và **F1-score**.\n",
        "\n",
        "### 🚀 Evaluate Model Performance | Đánh giá hiệu suất mô hình:\n",
        "\n",
        "We will use **scikit-learn's metrics** to evaluate the model's performance on the test set.  \n",
        "Chúng ta sẽ sử dụng các **chỉ số trong scikit-learn** để đánh giá hiệu suất của mô hình trên bộ kiểm tra.\n",
        "\n"
      ],
      "metadata": {
        "id": "n3YezkCnqSEH"
      }
    },
    {
      "cell_type": "code",
      "source": [
        "# 6️⃣ Đánh giá mô hình\n",
        "y_pred = model.predict(X_test_tfidf)\n",
        "\n",
        "print(\"Accuracy:\", accuracy_score(y_test, y_pred))\n",
        "print(\"Classification Report:\\n\", classification_report(y_test, y_pred))"
      ],
      "metadata": {
        "id": "jRHba-2nqV5d"
      },
      "execution_count": null,
      "outputs": []
    },
    {
      "cell_type": "markdown",
      "source": [
        "## 💾 6. Save the Model  \n",
        "*Lưu mô hình*\n",
        "\n",
        "After training and evaluating the model, we can save it to disk so that it can be reused later without retraining. We will use the **joblib** library to save the model.  \n",
        "Sau khi huấn luyện và đánh giá mô hình, chúng ta có thể lưu mô hình vào ổ đĩa để có thể tái sử dụng sau mà không cần huấn luyện lại. Chúng ta sẽ sử dụng thư viện **joblib** để lưu mô hình.\n",
        "\n"
      ],
      "metadata": {
        "id": "ILstCVJdqaZN"
      }
    },
    {
      "cell_type": "code",
      "source": [
        "# Lưu mô hình LogisticRegression đã huấn luyện\n",
        "joblib.dump(model, \"phanloaiemail.pkl\")\n",
        "print(\"Mô hình đã được lưu!\")\n",
        "\n"
      ],
      "metadata": {
        "id": "QolG1Nfiqihe"
      },
      "execution_count": null,
      "outputs": []
    },
    {
      "cell_type": "markdown",
      "source": [
        "# Full Code\n"
      ],
      "metadata": {
        "id": "ZC2RJlDwqlRW"
      }
    },
    {
      "cell_type": "code",
      "execution_count": 11,
      "metadata": {
        "colab": {
          "base_uri": "https://localhost:8080/"
        },
        "id": "EU5n4yb2KSWc",
        "outputId": "06b33b49-5158-4569-ed58-3947283b64e2"
      },
      "outputs": [
        {
          "output_type": "stream",
          "name": "stdout",
          "text": [
            "Accuracy: 1.0\n",
            "Classification Report:\n",
            "               precision    recall  f1-score   support\n",
            "\n",
            "           0       1.00      1.00      1.00      1691\n",
            "           1       1.00      1.00      1.00       309\n",
            "\n",
            "    accuracy                           1.00      2000\n",
            "   macro avg       1.00      1.00      1.00      2000\n",
            "weighted avg       1.00      1.00      1.00      2000\n",
            "\n",
            "Mô hình đã được lưu!\n"
          ]
        }
      ],
      "source": [
        "import pandas as pd\n",
        "import re\n",
        "import string\n",
        "from sklearn.model_selection import train_test_split\n",
        "from sklearn.feature_extraction.text import TfidfVectorizer\n",
        "from sklearn.linear_model import LogisticRegression\n",
        "from sklearn.metrics import accuracy_score, classification_report\n",
        "import joblib\n",
        "\n",
        "# 1️⃣ Load dữ liệu\n",
        "df = pd.read_csv(\"spam.csv\", encoding=\"latin-1\")[['label', 'message']]\n",
        "df.columns = ['label', 'message']\n",
        "df['label'] = df['label'].map({'ham': 0, 'spam': 1})  # Chuyển đổi nhãn thành số\n",
        "\n",
        "# 2️⃣ Tiền xử lý văn bản\n",
        "def clean_text(text):\n",
        "    text = text.lower()\n",
        "    text = re.sub(f\"[{string.punctuation}]\", \"\", text)  # Xóa dấu câu\n",
        "    text = re.sub(r\"\\d+\", \"\", text)  # Xóa số\n",
        "    return text\n",
        "\n",
        "df['message'] = df['message'].apply(clean_text)\n",
        "\n",
        "# 3️⃣ Chia tập dữ liệu\n",
        "X_train, X_test, y_train, y_test = train_test_split(df['message'], df['label'], test_size=0.2, random_state=42)\n",
        "\n",
        "# 4️⃣ Chuyển đổi văn bản thành vector số\n",
        "vectorizer = TfidfVectorizer()\n",
        "\n",
        "# Bước 1: Huấn luyện vectorizer với dữ liệu huấn luyện\n",
        "vectorizer.fit(X_train)\n",
        "\n",
        "# Giả sử vectorizer là đối tượng TfidfVectorizer đã huấn luyện\n",
        "joblib.dump(vectorizer, \"tfidf_vectorizer.pkl\")\n",
        "\n",
        "# Bước 2: Chuyển đổi dữ liệu huấn luyện thành vector số\n",
        "X_train_tfidf = vectorizer.transform(X_train)\n",
        "\n",
        "X_test_tfidf = vectorizer.transform(X_test)\n",
        "\n",
        "# 5️⃣ Huấn luyện mô hình Logistic Regression\n",
        "model = LogisticRegression()\n",
        "\n",
        "model.fit(X_train_tfidf, y_train)\n",
        "\n",
        "# 6️⃣ Đánh giá mô hình\n",
        "y_pred = model.predict(X_test_tfidf)\n",
        "\n",
        "print(\"Accuracy:\", accuracy_score(y_test, y_pred))\n",
        "print(\"Classification Report:\\n\", classification_report(y_test, y_pred))\n",
        "\n",
        "# Lưu mô hình LogisticRegression đã huấn luyện\n",
        "joblib.dump(model, \"phanloaiemail.pkl\")\n",
        "print(\"Mô hình đã được lưu!\")\n",
        "\n"
      ]
    },
    {
      "cell_type": "markdown",
      "source": [
        "#**Next, let's build the interface using Streamlit.**\n",
        "\n",
        "*Tiếp theo, ta sẽ xây dựng giao diện sử dụng Streamlit.*\n"
      ],
      "metadata": {
        "id": "lU9ATxZTqpC1"
      }
    },
    {
      "cell_type": "markdown",
      "source": [
        "#First, we need to install the required libraries!\n",
        "Đầu tiên, ta cần cài các thư viện cần thiết!"
      ],
      "metadata": {
        "id": "2xkD2gxNq3E-"
      }
    },
    {
      "cell_type": "code",
      "source": [
        "# streamlit\n",
        "!pip install streamlit\n",
        "\n",
        "# cai dat pyngrok\n",
        "!pip install pyngrok\n",
        "\n"
      ],
      "metadata": {
        "collapsed": true,
        "colab": {
          "base_uri": "https://localhost:8080/"
        },
        "id": "Ahz9O9WFbbRp",
        "outputId": "e90b44f7-aee6-4d05-fd4b-8562cd18ac6f"
      },
      "execution_count": 4,
      "outputs": [
        {
          "output_type": "stream",
          "name": "stdout",
          "text": [
            "Collecting streamlit\n",
            "  Downloading streamlit-1.45.0-py3-none-any.whl.metadata (8.9 kB)\n",
            "Requirement already satisfied: altair<6,>=4.0 in /usr/local/lib/python3.11/dist-packages (from streamlit) (5.5.0)\n",
            "Requirement already satisfied: blinker<2,>=1.5.0 in /usr/local/lib/python3.11/dist-packages (from streamlit) (1.9.0)\n",
            "Requirement already satisfied: cachetools<6,>=4.0 in /usr/local/lib/python3.11/dist-packages (from streamlit) (5.5.2)\n",
            "Requirement already satisfied: click<9,>=7.0 in /usr/local/lib/python3.11/dist-packages (from streamlit) (8.1.8)\n",
            "Requirement already satisfied: numpy<3,>=1.23 in /usr/local/lib/python3.11/dist-packages (from streamlit) (2.0.2)\n",
            "Requirement already satisfied: packaging<25,>=20 in /usr/local/lib/python3.11/dist-packages (from streamlit) (24.2)\n",
            "Requirement already satisfied: pandas<3,>=1.4.0 in /usr/local/lib/python3.11/dist-packages (from streamlit) (2.2.2)\n",
            "Requirement already satisfied: pillow<12,>=7.1.0 in /usr/local/lib/python3.11/dist-packages (from streamlit) (11.2.1)\n",
            "Requirement already satisfied: protobuf<7,>=3.20 in /usr/local/lib/python3.11/dist-packages (from streamlit) (5.29.4)\n",
            "Requirement already satisfied: pyarrow>=7.0 in /usr/local/lib/python3.11/dist-packages (from streamlit) (18.1.0)\n",
            "Requirement already satisfied: requests<3,>=2.27 in /usr/local/lib/python3.11/dist-packages (from streamlit) (2.32.3)\n",
            "Requirement already satisfied: tenacity<10,>=8.1.0 in /usr/local/lib/python3.11/dist-packages (from streamlit) (9.1.2)\n",
            "Requirement already satisfied: toml<2,>=0.10.1 in /usr/local/lib/python3.11/dist-packages (from streamlit) (0.10.2)\n",
            "Requirement already satisfied: typing-extensions<5,>=4.4.0 in /usr/local/lib/python3.11/dist-packages (from streamlit) (4.13.2)\n",
            "Collecting watchdog<7,>=2.1.5 (from streamlit)\n",
            "  Downloading watchdog-6.0.0-py3-none-manylinux2014_x86_64.whl.metadata (44 kB)\n",
            "\u001b[2K     \u001b[90m━━━━━━━━━━━━━━━━━━━━━━━━━━━━━━━━━━━━━━━━\u001b[0m \u001b[32m44.3/44.3 kB\u001b[0m \u001b[31m2.5 MB/s\u001b[0m eta \u001b[36m0:00:00\u001b[0m\n",
            "\u001b[?25hRequirement already satisfied: gitpython!=3.1.19,<4,>=3.0.7 in /usr/local/lib/python3.11/dist-packages (from streamlit) (3.1.44)\n",
            "Collecting pydeck<1,>=0.8.0b4 (from streamlit)\n",
            "  Downloading pydeck-0.9.1-py2.py3-none-any.whl.metadata (4.1 kB)\n",
            "Requirement already satisfied: tornado<7,>=6.0.3 in /usr/local/lib/python3.11/dist-packages (from streamlit) (6.4.2)\n",
            "Requirement already satisfied: jinja2 in /usr/local/lib/python3.11/dist-packages (from altair<6,>=4.0->streamlit) (3.1.6)\n",
            "Requirement already satisfied: jsonschema>=3.0 in /usr/local/lib/python3.11/dist-packages (from altair<6,>=4.0->streamlit) (4.23.0)\n",
            "Requirement already satisfied: narwhals>=1.14.2 in /usr/local/lib/python3.11/dist-packages (from altair<6,>=4.0->streamlit) (1.37.1)\n",
            "Requirement already satisfied: gitdb<5,>=4.0.1 in /usr/local/lib/python3.11/dist-packages (from gitpython!=3.1.19,<4,>=3.0.7->streamlit) (4.0.12)\n",
            "Requirement already satisfied: python-dateutil>=2.8.2 in /usr/local/lib/python3.11/dist-packages (from pandas<3,>=1.4.0->streamlit) (2.9.0.post0)\n",
            "Requirement already satisfied: pytz>=2020.1 in /usr/local/lib/python3.11/dist-packages (from pandas<3,>=1.4.0->streamlit) (2025.2)\n",
            "Requirement already satisfied: tzdata>=2022.7 in /usr/local/lib/python3.11/dist-packages (from pandas<3,>=1.4.0->streamlit) (2025.2)\n",
            "Requirement already satisfied: charset-normalizer<4,>=2 in /usr/local/lib/python3.11/dist-packages (from requests<3,>=2.27->streamlit) (3.4.1)\n",
            "Requirement already satisfied: idna<4,>=2.5 in /usr/local/lib/python3.11/dist-packages (from requests<3,>=2.27->streamlit) (3.10)\n",
            "Requirement already satisfied: urllib3<3,>=1.21.1 in /usr/local/lib/python3.11/dist-packages (from requests<3,>=2.27->streamlit) (2.4.0)\n",
            "Requirement already satisfied: certifi>=2017.4.17 in /usr/local/lib/python3.11/dist-packages (from requests<3,>=2.27->streamlit) (2025.4.26)\n",
            "Requirement already satisfied: smmap<6,>=3.0.1 in /usr/local/lib/python3.11/dist-packages (from gitdb<5,>=4.0.1->gitpython!=3.1.19,<4,>=3.0.7->streamlit) (5.0.2)\n",
            "Requirement already satisfied: MarkupSafe>=2.0 in /usr/local/lib/python3.11/dist-packages (from jinja2->altair<6,>=4.0->streamlit) (3.0.2)\n",
            "Requirement already satisfied: attrs>=22.2.0 in /usr/local/lib/python3.11/dist-packages (from jsonschema>=3.0->altair<6,>=4.0->streamlit) (25.3.0)\n",
            "Requirement already satisfied: jsonschema-specifications>=2023.03.6 in /usr/local/lib/python3.11/dist-packages (from jsonschema>=3.0->altair<6,>=4.0->streamlit) (2025.4.1)\n",
            "Requirement already satisfied: referencing>=0.28.4 in /usr/local/lib/python3.11/dist-packages (from jsonschema>=3.0->altair<6,>=4.0->streamlit) (0.36.2)\n",
            "Requirement already satisfied: rpds-py>=0.7.1 in /usr/local/lib/python3.11/dist-packages (from jsonschema>=3.0->altair<6,>=4.0->streamlit) (0.24.0)\n",
            "Requirement already satisfied: six>=1.5 in /usr/local/lib/python3.11/dist-packages (from python-dateutil>=2.8.2->pandas<3,>=1.4.0->streamlit) (1.17.0)\n",
            "Downloading streamlit-1.45.0-py3-none-any.whl (9.9 MB)\n",
            "\u001b[2K   \u001b[90m━━━━━━━━━━━━━━━━━━━━━━━━━━━━━━━━━━━━━━━━\u001b[0m \u001b[32m9.9/9.9 MB\u001b[0m \u001b[31m30.5 MB/s\u001b[0m eta \u001b[36m0:00:00\u001b[0m\n",
            "\u001b[?25hDownloading pydeck-0.9.1-py2.py3-none-any.whl (6.9 MB)\n",
            "\u001b[2K   \u001b[90m━━━━━━━━━━━━━━━━━━━━━━━━━━━━━━━━━━━━━━━━\u001b[0m \u001b[32m6.9/6.9 MB\u001b[0m \u001b[31m28.8 MB/s\u001b[0m eta \u001b[36m0:00:00\u001b[0m\n",
            "\u001b[?25hDownloading watchdog-6.0.0-py3-none-manylinux2014_x86_64.whl (79 kB)\n",
            "\u001b[2K   \u001b[90m━━━━━━━━━━━━━━━━━━━━━━━━━━━━━━━━━━━━━━━━\u001b[0m \u001b[32m79.1/79.1 kB\u001b[0m \u001b[31m3.0 MB/s\u001b[0m eta \u001b[36m0:00:00\u001b[0m\n",
            "\u001b[?25hInstalling collected packages: watchdog, pydeck, streamlit\n",
            "Successfully installed pydeck-0.9.1 streamlit-1.45.0 watchdog-6.0.0\n",
            "Collecting pyngrok\n",
            "  Downloading pyngrok-7.2.5-py3-none-any.whl.metadata (8.9 kB)\n",
            "Requirement already satisfied: PyYAML>=5.1 in /usr/local/lib/python3.11/dist-packages (from pyngrok) (6.0.2)\n",
            "Downloading pyngrok-7.2.5-py3-none-any.whl (23 kB)\n",
            "Installing collected packages: pyngrok\n",
            "Successfully installed pyngrok-7.2.5\n"
          ]
        }
      ]
    },
    {
      "cell_type": "markdown",
      "source": [
        "#**Next, let's create the interface.**\n",
        "*Sau đó, ta sẽ tạo giao diện.*\n"
      ],
      "metadata": {
        "id": "cg-kX-N-q7et"
      }
    },
    {
      "cell_type": "code",
      "source": [
        "%%writefile app.py\n",
        "import streamlit as st\n",
        "import joblib\n",
        "from sklearn.feature_extraction.text import TfidfVectorizer\n",
        "\n",
        "# Tải mô hình đã huấn luyện\n",
        "model = joblib.load(\"phanloaiemail.pkl\")\n",
        "vectorizer = joblib.load(\"tfidf_vectorizer.pkl\")\n",
        "\n",
        "# Tiêu đề ứng dụng\n",
        "st.title(\"📩 Phân loại Email: Spam hay Không Spam?\")\n",
        "\n",
        "# Hướng dẫn sử dụng\n",
        "st.write(\"Nhập nội dung email vào ô bên dưới để kiểm tra liệu đó có phải là spam không.\")\n",
        "\n",
        "# Nhập nội dung email\n",
        "email_text = st.text_area(\"Nhập nội dung email:\", \"\")\n",
        "\n",
        "# Dự đoán\n",
        "if st.button(\"📌 Phân loại Email\"):\n",
        "    if email_text.strip() == \"\":\n",
        "        st.warning(\"Vui lòng nhập nội dung email để phân loại.\")\n",
        "    else:\n",
        "        # Tiền xử lý và chuyển đổi văn bản thành vector\n",
        "        email_tfidf = vectorizer.transform([email_text])\n",
        "        prediction = model.predict(email_tfidf)[0]\n",
        "\n",
        "        # Hiển thị kết quả\n",
        "        if prediction == 1:\n",
        "            st.error(\"🚨 Đây có thể là một email spam!\")\n",
        "        else:\n",
        "            st.success(\"✅ Đây có vẻ là một email hợp lệ.\")\n",
        "\n"
      ],
      "metadata": {
        "colab": {
          "base_uri": "https://localhost:8080/"
        },
        "id": "1Bv8UaVJQrwo",
        "outputId": "ddbc8bd2-17cb-47c4-b31d-e429642db3fa"
      },
      "execution_count": 12,
      "outputs": [
        {
          "output_type": "stream",
          "name": "stdout",
          "text": [
            "Overwriting app.py\n"
          ]
        }
      ]
    },
    {
      "cell_type": "markdown",
      "source": [
        "# At this point, to run the app, you need to log in to ngrok and get the authtoken!\n",
        "Đến đây, để chạy App, bạn cần đăng nhập trên ngrok, rồi lấy authtoken!\n",
        "\n",
        "\n",
        "- Step 1: Create an account at: https://dashboard.ngrok.com/login?state=0MZdko9buyFsE2RW-1tFrA4KegSYNVU7JMBTL5MJA_luBJvdgi7y3HJkDhj2KUskjAWLa-ObG_Z3DNV1e5I_xlhHktGPw2fSzQUKaPEQCB_vp1wg2WkJm-EBhSPLH7rsgqjDp-b8c1tJz6qnzC7zmV7yYzgdyXSBmHRb6RUnDXzheBwPCFyFgGy-\n",
        "\n",
        "- Step 2: Get your authtoken here: https://dashboard.ngrok.com/get-started/your-authtoken"
      ],
      "metadata": {
        "id": "HTO7UlNYtX_e"
      }
    },
    {
      "cell_type": "code",
      "source": [
        "# Cần đăng nhập trên ngrok để lấy autoken! (Need to login on ngrok to get autoken!)\n",
        "# Đây là autoken của tôi, bạn cần tự lấy autoken thay vào! (This is my autoken, you have to auto get autoken!)\n",
        "!ngrok authtoken \"2vnX9rYN7CO6Ah7xA73xsu2HF1R_7JeDiWoAKyKFJHPXc2BiX\""
      ],
      "metadata": {
        "colab": {
          "base_uri": "https://localhost:8080/"
        },
        "id": "MU4dAwjvs61-",
        "outputId": "8c8cfd06-b8f6-45a4-d6cd-4d9629518f81"
      },
      "execution_count": 5,
      "outputs": [
        {
          "output_type": "stream",
          "name": "stdout",
          "text": [
            "Authtoken saved to configuration file: /root/.config/ngrok/ngrok.yml\n"
          ]
        }
      ]
    },
    {
      "cell_type": "markdown",
      "source": [
        "#**Next, run the code below, and click on the link to go to our web app.**\n",
        "*Sau đó, ta chạy đoạn code bên dưới, click vào link để chuyển đến web của chúng ta.*\n"
      ],
      "metadata": {
        "id": "jlBmRnUd0oya"
      }
    },
    {
      "cell_type": "code",
      "source": [
        "#Chạy App\n",
        "from pyngrok import ngrok\n",
        "public_url = ngrok.connect(8501, \"http\")  # Xóa tham số \"port=\"\n",
        "print(f\"Truy cập Streamlit tại: {public_url}\")\n",
        "\n",
        "!streamlit run app.py\n"
      ],
      "metadata": {
        "colab": {
          "base_uri": "https://localhost:8080/"
        },
        "id": "Ic2O8-EiRJdJ",
        "outputId": "10d08d5d-e086-4d58-a46b-cfe61c1219ed"
      },
      "execution_count": 13,
      "outputs": [
        {
          "output_type": "stream",
          "name": "stdout",
          "text": [
            "Truy cập Streamlit tại: NgrokTunnel: \"https://963d-35-223-50-136.ngrok-free.app\" -> \"http://localhost:8501\"\n",
            "\n",
            "Collecting usage statistics. To deactivate, set browser.gatherUsageStats to false.\n",
            "\u001b[0m\n",
            "\u001b[0m\n",
            "\u001b[34m\u001b[1m  You can now view your Streamlit app in your browser.\u001b[0m\n",
            "\u001b[0m\n",
            "\u001b[34m  Local URL: \u001b[0m\u001b[1mhttp://localhost:8501\u001b[0m\n",
            "\u001b[34m  Network URL: \u001b[0m\u001b[1mhttp://172.28.0.12:8501\u001b[0m\n",
            "\u001b[34m  External URL: \u001b[0m\u001b[1mhttp://35.223.50.136:8501\u001b[0m\n",
            "\u001b[0m\n",
            "\u001b[34m  Stopping...\u001b[0m\n",
            "\u001b[34m  Stopping...\u001b[0m\n",
            "Exception ignored in atexit callback: <function _exit_function at 0x7a9a04228d60>\n",
            "Traceback (most recent call last):\n",
            "  File \"/usr/lib/python3.11/multiprocessing/util.py\", line 323, in _exit_function\n",
            "    def _exit_function(info=info, debug=debug, _run_finalizers=_run_finalizers,\n",
            "    \n",
            "  File \"/usr/local/lib/python3.11/dist-packages/streamlit/web/bootstrap.py\", line 44, in signal_handler\n",
            "    server.stop()\n",
            "  File \"/usr/local/lib/python3.11/dist-packages/streamlit/web/server/server.py\", line 469, in stop\n",
            "    self._runtime.stop()\n",
            "  File \"/usr/local/lib/python3.11/dist-packages/streamlit/runtime/runtime.py\", line 324, in stop\n",
            "    async_objs.eventloop.call_soon_threadsafe(stop_on_eventloop)\n",
            "  File \"/usr/lib/python3.11/asyncio/base_events.py\", line 807, in call_soon_threadsafe\n",
            "    self._check_closed()\n",
            "  File \"/usr/lib/python3.11/asyncio/base_events.py\", line 520, in _check_closed\n",
            "    raise RuntimeError('Event loop is closed')\n",
            "RuntimeError: Event loop is closed\n"
          ]
        }
      ]
    }
  ]
}